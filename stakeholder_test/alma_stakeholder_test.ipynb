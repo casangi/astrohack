{
 "cells": [
  {
   "cell_type": "code",
   "execution_count": null,
   "id": "f1ac7ba0-048a-4c80-a978-ea87f07ecbff",
   "metadata": {
    "tags": []
   },
   "outputs": [],
   "source": [
    "!pip install -e .. > /dev/null 2>&1"
   ]
  },
  {
   "cell_type": "code",
   "execution_count": null,
   "id": "6b6c787b",
   "metadata": {
    "tags": []
   },
   "outputs": [],
   "source": [
    "import os\n",
    "import json\n",
    "import astrohack\n",
    "\n",
    "import matplotlib.pyplot as plt\n",
    "\n",
    "plt.rcParams['figure.figsize'] = [20, 20]"
   ]
  },
  {
   "cell_type": "code",
   "execution_count": null,
   "id": "471bdb3d",
   "metadata": {
    "tags": []
   },
   "outputs": [],
   "source": [
    "def build_folder_structure(paths):\n",
    "    for path in paths:\n",
    "        if not os.path.exists(path):\n",
    "            os.makedirs(path) \n",
    "\n",
    "datafolder = 'data'\n",
    "resultsfolder = 'results'\n",
    "\n",
    "# Build folder structure & download \n",
    "build_folder_structure(['data', 'results'])\n",
    "\n",
    "toolviper.utils.data.download('J1924-2914.ms.calibrated.split.SPW3', folder=datafolder, unpack=True)\n",
    "toolviper.utils.data.download(file='extract_holog_verification.json')\n",
    "toolviper.utils.data.download(file='holog_numerical_verification.json')"
   ]
  },
  {
   "cell_type": "code",
   "execution_count": null,
   "id": "daef9682",
   "metadata": {
    "tags": []
   },
   "outputs": [],
   "source": [
    "from toolviper.dask.client.client import local_client\n",
    "\n",
    "log_params = {'log_level':'DEBUG'}\n",
    "\n",
    "client = local_client(cores=2, memory_limit='8GB', log_params=log_params)"
   ]
  },
  {
   "cell_type": "code",
   "execution_count": null,
   "id": "25c7f696-9494-44c3-8957-6eeccdef6565",
   "metadata": {
    "tags": []
   },
   "outputs": [],
   "source": [
    "def test_holog_obs_dictionary(holog_obs_dict):\n",
    "    import json\n",
    "    \n",
    "\n",
    "    with open(\".holog_obs_dict.json\") as json_file:\n",
    "        holog_obj = json.load(json_file)    \n",
    "    \n",
    "    assert json.loads(holog_obj) == holog_obs_dict, \"Error: holog_obs_descrition dictionary has changes unexpectedly.\"\n",
    "    \n",
    "def test_holog_diagnostics(json_data, tolerance=1e-7):\n",
    "    import json\n",
    "    \n",
    "    with open(\"holog_numerical_verification.json\") as file:\n",
    "        reference_dict = json.load(file)\n",
    "        \n",
    "    cell_size = reference_dict[\"alma\"]['cell_size'][1]\n",
    "    grid_size = float(reference_dict[\"alma\"]['grid_size'][1])\n",
    "    \n",
    "    json_data['cell_size'] = np.abs(float(json_data['cell_size']))\n",
    "    \n",
    "    cell_size = np.abs(float(cell_size))\n",
    "    \n",
    "    assert relative_difference(json_data['cell_size'], cell_size) < tolerance, \"Unexpected change in cell_size occured.\"\n",
    "    assert relative_difference(np.sqrt(int(json_data['n_pix'])), grid_size) < tolerance, \"Unexpected change in grid_size occured.\"\n",
    "\n",
    "    \n",
    "def test_center_pixel(file, antenna, ddi, reference_center_pixels, number_of_digits=7):\n",
    "    from astrohack.dio import open_image\n",
    "    \n",
    "    mds = open_image(file)[antenna][ddi]\n",
    "    \n",
    "    aperture_shape = mds.APERTURE.values.shape[-2], mds.APERTURE.values.shape[-1]\n",
    "    beam_shape = mds.BEAM.values.shape[-2], mds.BEAM.values.shape[-1]  \n",
    "    \n",
    "    aperture_center_pixels = np.squeeze(mds.APERTURE.values[..., aperture_shape[0]//2, aperture_shape[1]//2])\n",
    "    beam_center_pixels = np.squeeze(mds.BEAM.values[..., beam_shape[0]//2, beam_shape[1]//2])\n",
    "    \n",
    "    aperture_ref = list(map(complex, reference_center_pixels['aperture']))\n",
    "    beam_ref = list(map(complex, reference_center_pixels['beam']))\n",
    "    \n",
    "    for i in range(len(aperture_ref)):\n",
    "        assert relative_difference(\n",
    "            aperture_ref[i].real, \n",
    "            aperture_center_pixels[i].real\n",
    "        ) < 1e-6, \"There has been a shift in aperture center pixel value(s)\"\n",
    "        \n",
    "        assert relative_difference(\n",
    "            beam_ref[i].real, \n",
    "            beam_center_pixels[i].real\n",
    "        ) < 1e-6, \"There has been a shift in beam center pixel value(s)\"\n",
    "                \n",
    "        assert relative_difference(\n",
    "            aperture_ref[i].imag, \n",
    "            aperture_center_pixels[i].imag\n",
    "        ) < 1e-6, \"There has been a shift in aperture center pixel value(s)\"\n",
    "        assert relative_difference(\n",
    "            beam_ref[i].imag, \n",
    "            beam_center_pixels[i].imag\n",
    "        ) < 1e-6, \"There has been a shift in beam center pixel value(s)\"\n",
    "        \n",
    "    \n",
    "def get_center_pixel(file, antenna, ddi):\n",
    "    from astrohack.dio import open_image\n",
    "    \n",
    "    mds = open_image(file)[antenna][ddi]\n",
    "    \n",
    "    aperture_shape = mds.APERTURE.values.shape[-2], mds.APERTURE.values.shape[-1]\n",
    "    beam_shape = mds.BEAM.values.shape[-2], mds.BEAM.values.shape[-1]    \n",
    "    \n",
    "    aperture_center_pixels = mds.APERTURE.values[..., aperture_shape[0]//2, aperture_shape[1]//2]\n",
    "    beam_center_pixels = mds.BEAM.values[..., beam_shape[0]//2, beam_shape[1]//2]\n",
    "    \n",
    "    return np.squeeze(aperture_center_pixels), np.squeeze(beam_center_pixels)\n",
    "\n",
    "def compare_float_values(result, reference, decimals):\n",
    "    result_list = list(map(str, str(result)))\n",
    "    reference_list = list(map(str, str(reference)))\n",
    "    \n",
    "    return result_list[:decimals] == reference_list[:decimals]\n",
    "\n",
    "def relative_difference(result, expected):\n",
    "    return 2*np.abs(result - expected)/(abs(result) + abs(expected))"
   ]
  },
  {
   "cell_type": "code",
   "execution_count": null,
   "id": "5759d17f-de08-4489-9d32-1d470aa808f7",
   "metadata": {},
   "outputs": [],
   "source": [
    "from astrohack.extract_pointing import extract_pointing\n",
    "\n",
    "alma_ms = \"data/J1924-2914.ms.calibrated.split.SPW3\"\n",
    "\n",
    "extract_pointing(\n",
    "    ms_name=alma_ms,\n",
    "    point_name='results/alma.split.point.zarr',\n",
    "    parallel=False,\n",
    "    overwrite=True\n",
    ")"
   ]
  },
  {
   "cell_type": "code",
   "execution_count": null,
   "id": "06a89e52",
   "metadata": {
    "tags": []
   },
   "outputs": [],
   "source": [
    "import numpy as np\n",
    "\n",
    "from astrohack.extract_holog import extract_holog\n",
    "\n",
    "with open(\"extract_holog_verification.json\") as file:\n",
    "    json_dict = json.load(file)\n",
    "    \n",
    "holog_obs_dict = json_dict[\"alma\"]\n",
    "\n",
    "alma_ms = \"data/J1924-2914.ms.calibrated.split.SPW3\"\n",
    "alma_holog = 'results/alma.split.holog.zarr'\n",
    "\n",
    "extract_holog(\n",
    "    ms_name=alma_ms,\n",
    "    holog_name=alma_holog,\n",
    "    point_name='results/alma.split.point.zarr',\n",
    "    data_column='DATA',\n",
    "    parallel=False,\n",
    "    overwrite=True\n",
    ")\n",
    "\n",
    "test_holog_obs_dictionary(holog_obs_dict)\n",
    "\n",
    "with open('results/alma.split.holog.zarr/.holog_attr') as attr_file:\n",
    "    holog_attr = json.load(attr_file)\n",
    "    \n",
    "test_holog_diagnostics(\n",
    "    json_data=holog_attr,\n",
    "    tolerance=2e-5\n",
    ")"
   ]
  },
  {
   "cell_type": "code",
   "execution_count": null,
   "id": "d856b328",
   "metadata": {
    "tags": []
   },
   "outputs": [],
   "source": [
    "import numpy as np\n",
    "from astrohack import holog\n",
    "\n",
    "with open(\"holog_numerical_verification.json\") as file:\n",
    "    reference_dict = json.load(file)\n",
    "\n",
    "grid_interpolation_mode = 'linear' #'nearest' 'linear' 'cubic'\n",
    "chan_average = True\n",
    "scan_average = True\n",
    "\n",
    "holog(\n",
    "    holog_name=alma_holog, \n",
    "    padding_factor=50, \n",
    "    grid_interpolation_mode=grid_interpolation_mode,\n",
    "    chan_average = chan_average,\n",
    "    scan_average = scan_average,\n",
    "    overwrite=True,\n",
    "    phase_fit_engine=\"perturbations\",\n",
    "    apply_mask=True,\n",
    "    to_stokes=True,\n",
    "    parallel=True\n",
    ")\n",
    "    \n",
    "test_center_pixel(\n",
    "    file=\"results/alma.split.image.zarr\", \n",
    "    antenna=\"ant_DV13\", \n",
    "    ddi=\"ddi_0\", \n",
    "    reference_center_pixels=reference_dict[\"alma\"]['pixels']\n",
    ")"
   ]
  },
  {
   "cell_type": "code",
   "execution_count": null,
   "id": "477cf776",
   "metadata": {
    "tags": []
   },
   "outputs": [],
   "source": [
    "import xarray as xr\n",
    "import matplotlib.pyplot as plt\n",
    "import scipy\n",
    "import matplotlib.patches as patches\n",
    "\n",
    "from scipy import constants\n",
    "\n",
    "from astrohack.dio import open_image\n",
    "\n",
    "alma_image = resultsfolder+'/alma.split.image.zarr'\n",
    "\n",
    "plt.close('all')\n",
    "\n",
    "chan = 0\n",
    "\n",
    "ds = open_image(\"results/alma.split.image.zarr\")['ant_DV13']['ddi_0']\n",
    "\n",
    "wavelength = scipy.constants.speed_of_light/ds.chan.values[chan]\n",
    "l = ds.l.values\n",
    "m = ds.m.values\n",
    "u = ds.u.values*wavelength\n",
    "v = ds.v.values*wavelength\n",
    "\n",
    "print(u.min(),u.max())\n",
    "\n",
    "plt.figure()\n",
    "plt.imshow(np.abs(ds.BEAM[0,chan,0,:,:]),extent=[l.min(), l.max(), m.min(), m.max()])\n",
    "plt.colorbar()\n",
    "plt.show()\n",
    "\n",
    "circle = patches.Circle((0,0), 12.5, fill=False, color='white', alpha=0.7, linewidth=2)\n",
    "\n",
    "fig, ax =plt.subplots()\n",
    "\n",
    "plt.imshow(np.abs(ds.APERTURE[0,chan,0,:,:]),extent=[u.min(), u.max(), v.min(), v.max()])\n",
    "plt.colorbar()\n",
    "plt.show()\n",
    "\n",
    "ds"
   ]
  },
  {
   "cell_type": "code",
   "execution_count": null,
   "id": "1ce05739",
   "metadata": {
    "tags": []
   },
   "outputs": [],
   "source": [
    "from astrohack.panel import panel\n",
    "\n",
    "panel_model = 'rigid'\n",
    "\n",
    "alma_panel = panel(\n",
    "    image_name=alma_image, \n",
    "    panel_model=panel_model,\n",
    "    parallel=True,\n",
    "    overwrite=True\n",
    ")"
   ]
  },
  {
   "cell_type": "code",
   "execution_count": null,
   "id": "61829e69-70c8-4600-89e4-fb1cc7b20b88",
   "metadata": {
    "tags": []
   },
   "outputs": [],
   "source": [
    "import numpy as np\n",
    "from astrohack.dio import open_panel\n",
    "\n",
    "def relative_difference(mean, expected):  \n",
    "    return 2*np.abs(mean - expected)/(abs(mean) + abs(expected))\n",
    "\n",
    "def verify_panel_positions(\n",
    "    panel_list=['3-11', '5-31', '7-52', '11-62'], \n",
    "    reference_position = np.array([-2.16823971, -0.94590908,  0.84834425, 0.76463105]),\n",
    "    antenna='ant_DV13',\n",
    "    ddi='ddi_0'\n",
    "):\n",
    "    \n",
    "    M_TO_MILS = 39370.1\n",
    "    \n",
    "    panel_mds = open_panel('results/alma.split.panel.zarr')\n",
    "    \n",
    "    panel_position = np.mean(panel_mds[antenna][ddi].sel(labels=panel_list).PANEL_SCREWS.values*M_TO_MILS, axis=1)\n",
    "\n",
    "    relative_position = relative_difference(panel_position, reference_position)\n",
    "    \n",
    "    if np.any(relative_position > 1e-6): \n",
    "        print(\"There were changes!\")\n",
    "        print(relative_position)    "
   ]
  },
  {
   "cell_type": "code",
   "execution_count": null,
   "id": "f901604c-76e6-4e71-b970-c127737426ee",
   "metadata": {
    "tags": []
   },
   "outputs": [],
   "source": [
    "verify_panel_positions(antenna='ant_DV13', ddi='ddi_0')"
   ]
  }
 ],
 "metadata": {
  "kernelspec": {
   "display_name": "Python 3 (ipykernel)",
   "language": "python",
   "name": "python3"
  },
  "language_info": {
   "codemirror_mode": {
    "name": "ipython",
    "version": 3
   },
   "file_extension": ".py",
   "mimetype": "text/x-python",
   "name": "python",
   "nbconvert_exporter": "python",
   "pygments_lexer": "ipython3",
   "version": "3.12.9"
  }
 },
 "nbformat": 4,
 "nbformat_minor": 5
}
