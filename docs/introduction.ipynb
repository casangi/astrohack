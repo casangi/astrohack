{
 "cells": [
  {
   "cell_type": "markdown",
   "id": "e46c2166",
   "metadata": {},
   "source": [
    "# Introducing astroHACK\n",
    "\n",
    "[![Python 3.10 3.11 3.12](https://img.shields.io/badge/python-3.10%20%7C%203.11%20%7C%203.12-blue)](https://www.python.org/downloads/release/python-3120/)\n",
    "[![Documentation Status](https://readthedocs.org/projects/astrohack/badge/?version=latest)](https://astrohack.readthedocs.io/en/latest/?badge=latest)\n",
    "\n",
    "astroHack (Holography Antenna Commissioning Kit) is a Python package that produces antenna aperture images and panel adjustment corrections from calibrated holography measurement sets. Initially, it will support holography data from the VLA and ALMA, with the future goal of supporting the ngVLA. Much of the core functionality from the following AIPS tasks has been ported: UVHOL, HOLOG, and PANEL. astroHack enables parallel execution by using Dask and efficient single-threaded performance by making use of Numba.\n",
    "\n",
    "\n",
    "> 📝 astroHACK is under active development! Breaking API changes are still happening on a regular basis, so proceed with caution.\n",
    "\n",
    "## Installing\n",
    "\n",
    "\n",
    "It is recommended to use the [conda](https://docs.conda.io/projects/conda/en/latest/) environment manager to create a clean, self-contained runtime where astrohack and all its dependencies can be installed:\n",
    "\n",
    "```sh \n",
    "conda create --name astrohack python=3.12 --no-default-packages\n",
    "conda activate astrohack\n",
    "```\n",
    "\n",
    "> 📝 On macOS it is required to pre-install `python-casacore` using `conda install -c conda-forge python-casacore`.\n",
    "\n",
    "Making astroHACK available for download from conda-forge directly is pending, so until then the current recommendation is to sully that pristine environment by calling pip [from within conda](https://www.anaconda.com/blog/using-pip-in-a-conda-environment), like this:\n",
    "\n",
    "```sh\n",
    "pip install astrohack\n",
    "```\n"
   ]
  },
  {
   "cell_type": "code",
   "execution_count": null,
   "id": "90b033d1-8c82-4996-a14a-3ad16fb0138a",
   "metadata": {},
   "outputs": [],
   "source": []
  }
 ],
 "metadata": {
  "kernelspec": {
   "display_name": "Python 3 (ipykernel)",
   "language": "python",
   "name": "python3"
  },
  "language_info": {
   "codemirror_mode": {
    "name": "ipython",
    "version": 3
   },
   "file_extension": ".py",
   "mimetype": "text/x-python",
   "name": "python",
   "nbconvert_exporter": "python",
   "pygments_lexer": "ipython3",
   "version": "3.11.9"
  }
 },
 "nbformat": 4,
 "nbformat_minor": 5
}
