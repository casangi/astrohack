{
 "cells": [
  {
   "cell_type": "markdown",
   "id": "7fdbd252-ebcc-4617-9d2e-02face835cb6",
   "metadata": {},
   "source": [
    "# AstroHACK DEMO VLA"
   ]
  },
  {
   "cell_type": "markdown",
   "id": "225bd186-8bb6-4f48-b58e-30cc03a53aff",
   "metadata": {
    "tags": []
   },
   "source": [
    "# Start Dask Cluster"
   ]
  },
  {
   "cell_type": "code",
   "execution_count": null,
   "id": "ae9e7014-2ade-43a6-9365-ff6b506fb97a",
   "metadata": {},
   "outputs": [],
   "source": [
    "from toolviper.dask.client.client import local_client\n",
    "log_params = {'log_to_term':True,'log_level':'DEBUG','log_to_file':True,'log_file':'/users/jsteeb/astrohack/examples/logs/hack_'}\n",
    "worker_log_params = {'log_to_term':False,'log_level':'DEBUG','log_to_file':True,'log_file':'/users/jsteeb/astrohack/examples/logs/hack_'}\n",
    "\n",
    "client = local_client(cores=16,memory_limit='10GB',log_params=log_params,worker_log_params=worker_log_params)\n",
    "client"
   ]
  },
  {
   "cell_type": "markdown",
   "id": "f8a8629a-4815-48e9-a682-b7949b6fcfe1",
   "metadata": {
    "tags": []
   },
   "source": [
    "# Create holog_obs_description"
   ]
  },
  {
   "cell_type": "code",
   "execution_count": null,
   "id": "06820fcb-4a75-4f90-b524-d832ecf3a916",
   "metadata": {
    "tags": []
   },
   "outputs": [],
   "source": [
    "from astrohack.extract_holog import extract_holog\n",
    "import numpy as np\n",
    "import json\n",
    "\n",
    "reference_antennas = np.array(['ea01','ea02','ea03','ea04','ea05','ea07','ea08','ea09','ea11','ea12','ea14','ea18','ea19','ea21','ea22','ea24','ea27'])\n",
    "mapping_antennas = np.array(['ea06','ea10','ea13','ea15','ea16','ea17','ea23','ea25','ea26','ea28'])\n",
    "scans = np.array([8,9,10,12,13,14,16,17,18,23,24,25,27,28,29,31,32,33,38,39,40,42,43,44,46,47,48,53,54,55,57])\n",
    "holog_obs_description = {'map_0':{'ant':{}}}\n",
    "\n",
    "for m_ant in mapping_antennas:\n",
    "    holog_obs_description['map_0']['scans'] = scans\n",
    "    holog_obs_description['map_0']['ant'][m_ant]=reference_antennas\n",
    "    \n",
    "    \n",
    "holog_obs_description['ddi'] = np.arange(16)\n",
    "print(json.dumps(holog_obs_description, indent=4, default=str))"
   ]
  },
  {
   "cell_type": "markdown",
   "id": "36ada0df-c5fe-43df-bc14-85fba9c8f675",
   "metadata": {},
   "source": [
    "# Extract Holog"
   ]
  },
  {
   "cell_type": "code",
   "execution_count": null,
   "id": "1f05d776-fc2a-4d5d-b9a5-fdc57cb788ce",
   "metadata": {},
   "outputs": [],
   "source": [
    "from astrohack.extract_holog import extract_holog\n",
    "holog_mds = extract_holog(\n",
    "    ms_name='/.lustre/cv/projects/casa/holo/demo/ea25/after_THOL0001.sb42608447.eb42709773.59842.053038750004.ms', \n",
    "    holog_obs_dict=holog_obs_description,\n",
    "    data_col='CORRECTED_DATA',\n",
    "    parallel=True,\n",
    "    overwrite=True,\n",
    ")"
   ]
  },
  {
   "cell_type": "code",
   "execution_count": null,
   "id": "8df2d204-17db-4286-8cb2-442c2363bbaf",
   "metadata": {
    "jupyter": {
     "source_hidden": true
    },
    "tags": []
   },
   "outputs": [],
   "source": [
    "# from astrohack._utils._dio import AstrohackHologFile\n",
    "# holog_mds = AstrohackHologFile('/.lustre/cv/projects/casa/holo/demo/ea25/after_THOL0001.sb42608447.eb42709773.59842.053038750004.holog.zarr')\n",
    "# holog_mds.open()"
   ]
  },
  {
   "cell_type": "code",
   "execution_count": null,
   "id": "ab7a88ef-709b-4c3d-a979-7ad9f5b2df46",
   "metadata": {},
   "outputs": [],
   "source": [
    "holog_mds.summary()"
   ]
  },
  {
   "cell_type": "code",
   "execution_count": null,
   "id": "b3e92ee8-168c-4861-bc23-c3dd92789691",
   "metadata": {},
   "outputs": [],
   "source": [
    "holog_mds['ddi_1']['map_0']['ant_ea25']"
   ]
  },
  {
   "cell_type": "code",
   "execution_count": null,
   "id": "8b78419a-270c-4713-8bfc-9a7cda6a845e",
   "metadata": {},
   "outputs": [],
   "source": [
    "import matplotlib.pyplot as plt\n",
    "lm_da = holog_mds['ddi_1']['map_0']['ant_ea25'].DIRECTIONAL_COSINES\n",
    "\n",
    "plt.figure()\n",
    "plt.scatter(lm_da.isel(lm=0),lm_da.isel(lm=1))\n",
    "plt.title('Antenna EA25 Pointings')\n",
    "plt.xlabel('l (radians)')\n",
    "plt.ylabel('m (radians)')\n",
    "plt.show()\n"
   ]
  },
  {
   "cell_type": "code",
   "execution_count": null,
   "id": "e8db5304-bbfe-4ddd-bc6c-3c82917514c3",
   "metadata": {},
   "outputs": [],
   "source": [
    "from astrohack.dio import _load_point_file\n",
    "point_mds = _load_point_file('/.lustre/cv/projects/casa/holo/demo/ea25/after_THOL0001.sb42608447.eb42709773.59842.053038750004.point.zarr')\n",
    "point_mds['ant_ea04']"
   ]
  },
  {
   "cell_type": "code",
   "execution_count": null,
   "id": "432fb1c0-1e8c-4941-87c8-e68ce695f96b",
   "metadata": {},
   "outputs": [],
   "source": [
    "import matplotlib.pyplot as plt\n",
    "import numpy as np\n",
    "#%matplotlib widget\n",
    "ant_name = 'ant_ea04'\n",
    "lm_da = point_mds[ant_name].DIRECTIONAL_COSINES\n",
    "r = np.sqrt(lm_da.isel(ra_dec=0,time=slice(5000,-1))**2 + lm_da.isel(ra_dec=1,time=slice(5000,-1))**2)\n",
    "\n",
    "plt.figure()\n",
    "r.plot()\n",
    "plt.title('Antenna EA04')\n",
    "\n",
    "\n",
    "ant_name = 'ant_ea25'\n",
    "lm_da = point_mds[ant_name].DIRECTIONAL_COSINES\n",
    "r = np.sqrt(lm_da.isel(ra_dec=0,time=slice(5000,-1))**2 + lm_da.isel(ra_dec=1,time=slice(5000,-1))**2)\n",
    "\n",
    "plt.figure()\n",
    "r.plot()\n",
    "plt.title('Antenna EA25')\n",
    "\n"
   ]
  },
  {
   "cell_type": "markdown",
   "id": "3b341b5b-85a4-45db-8bee-914b0a2218ff",
   "metadata": {},
   "source": [
    "# Holog"
   ]
  },
  {
   "cell_type": "code",
   "execution_count": null,
   "id": "eb11d5a1-8188-4740-b073-a20aebb22039",
   "metadata": {},
   "outputs": [],
   "source": [
    "from astrohack.holog import holog\n",
    "import numpy as np\n",
    "cell_size = np.array([-0.0006442, 0.0006442])\n",
    "grid_size = np.array([31, 31])\n",
    "grid_interpolation_mode = 'linear' #'nearest', 'linear', 'cubic'\n",
    "\n",
    "image_mds = holog(holog_name='/.lustre/cv/projects/casa/holo/demo/ea25/after_THOL0001.sb42608447.eb42709773.59842.053038750004.holog.zarr', padding_factor=50,\n",
    "                  grid_size=grid_size, cell_size=cell_size, grid_interpolation_mode=grid_interpolation_mode,\n",
    "                  chan_average = True,\n",
    "                  scan_average = True,\n",
    "                  overwrite=True,\n",
    "                  phase_fit_engine=\"perturbations\",\n",
    "                  apply_mask=True,\n",
    "                  to_stokes=True,\n",
    "                  parallel=True\n",
    "                  )"
   ]
  },
  {
   "cell_type": "code",
   "execution_count": null,
   "id": "aafbcb96-cfa9-41f6-b3e0-0183b3328f75",
   "metadata": {
    "jupyter": {
     "source_hidden": true
    },
    "tags": []
   },
   "outputs": [],
   "source": [
    "# from astrohack._utils._dio import AstrohackImageFile\n",
    "# image_mds = AstrohackImageFile('/.lustre/cv/projects/casa/holo/demo/ea25/after_THOL0001.sb42608447.eb42709773.59842.053038750004.image.zarr')\n",
    "# image_mds.open()"
   ]
  },
  {
   "cell_type": "code",
   "execution_count": null,
   "id": "36f4998e-543e-4652-b99d-6244155eca53",
   "metadata": {},
   "outputs": [],
   "source": [
    "image_mds.summary()"
   ]
  },
  {
   "cell_type": "code",
   "execution_count": null,
   "id": "96eedd51-9854-45af-8f81-8e9a6940e008",
   "metadata": {},
   "outputs": [],
   "source": [
    "image_mds['ant_ea25']['ddi_1']"
   ]
  },
  {
   "cell_type": "code",
   "execution_count": null,
   "id": "414ba467-274d-4d66-b561-d14dd159ecdc",
   "metadata": {},
   "outputs": [],
   "source": [
    "plt.figure()\n",
    "image_mds['ant_ea25']['ddi_1'].ANGLE.sel(pol='I').plot()"
   ]
  },
  {
   "cell_type": "code",
   "execution_count": null,
   "id": "3820e376-4d35-4385-9b74-a64418eb5e7c",
   "metadata": {},
   "outputs": [],
   "source": [
    "plt.figure()\n",
    "np.abs(image_mds['ant_ea25']['ddi_1'].BEAM.sel(pol='I')).plot()"
   ]
  },
  {
   "cell_type": "code",
   "execution_count": null,
   "id": "3888b652-dc3d-4b4d-9c82-d6b9ec31be6a",
   "metadata": {
    "jupyter": {
     "source_hidden": true
    },
    "tags": []
   },
   "outputs": [],
   "source": [
    "#np.abs(holog_mds['ant_ea25']['ddi_1'].APERTURE.sel(pol='U')).plot()"
   ]
  },
  {
   "cell_type": "code",
   "execution_count": null,
   "id": "eceafd20-bd26-45fc-8479-d803a8ec869d",
   "metadata": {},
   "outputs": [],
   "source": [
    "import xarray as xr\n",
    "%matplotlib widget\n",
    "import matplotlib.pyplot as plt\n",
    "import numpy as np\n",
    "import scipy\n",
    "import matplotlib.patches as patches\n",
    "import scipy.constants\n",
    "\n",
    "ds = image_mds['ant_ea25']['ddi_1']\n",
    "\n",
    "wavelength = scipy.constants.speed_of_light/ds.chan.values[0]\n",
    "u = ds.u_prime.values*wavelength\n",
    "v = ds.v_prime.values*wavelength\n",
    "\n",
    "circle = patches.Circle((0,0), 12.5, fill=False, color='red', alpha=0.7, linewidth=2)\n",
    "\n",
    "fig, ax =plt.subplots()\n",
    "plt.imshow(np.abs(ds.ANGLE[0,0,0,:,:]),extent=[u.min(), u.max(), v.min(), v.max()])\n",
    "ax.add_patch(circle)\n",
    "plt.xlabel('u (m)')\n",
    "plt.ylabel('v (m)')\n",
    "plt.show()"
   ]
  },
  {
   "cell_type": "markdown",
   "id": "04b5daf9-b40a-498d-a799-8106f5bf4c21",
   "metadata": {},
   "source": [
    "# Panel"
   ]
  },
  {
   "cell_type": "code",
   "execution_count": null,
   "id": "25169352-2162-403f-82fa-1596fb62612d",
   "metadata": {},
   "outputs": [],
   "source": [
    "from astrohack.panel import panel\n",
    "ddi = None\n",
    "panel_model = 'rigid'\n",
    "\n",
    "panel_mds = panel(\n",
    "    image_name='/.lustre/cv/projects/casa/holo/demo/ea25/after_THOL0001.sb42608447.eb42709773.59842.053038750004.image.zarr', \n",
    "    panel_model=panel_model,\n",
    "    unit='mils', \n",
    "    parallel=True,\n",
    "    overwrite=True\n",
    ")"
   ]
  },
  {
   "cell_type": "code",
   "execution_count": null,
   "id": "c77ea05e-6559-4f9a-9892-b4788b1df756",
   "metadata": {
    "jupyter": {
     "source_hidden": true
    },
    "tags": []
   },
   "outputs": [],
   "source": [
    "# from astrohack._utils._dio import AstrohackPanelFile\n",
    "# panel_mds = AstrohackPanelFile('/.lustre/cv/projects/casa/holo/demo/ea25/after_THOL0001.sb42608447.eb42709773.59842.053038750004.panel.zarr')\n",
    "# panel_mds.open()"
   ]
  },
  {
   "cell_type": "code",
   "execution_count": null,
   "id": "a6a4deb1-2c6d-450c-84b5-9702e9dfaadd",
   "metadata": {},
   "outputs": [],
   "source": [
    "panel_mds.summary()"
   ]
  },
  {
   "cell_type": "code",
   "execution_count": null,
   "id": "ab6f8a7d-d10b-42ca-bece-b78e616d9113",
   "metadata": {},
   "outputs": [],
   "source": [
    "panel_mds['ant_ea25']['ddi_0']"
   ]
  },
  {
   "cell_type": "code",
   "execution_count": null,
   "id": "dcd61714-fe5f-4736-97d9-cc86c4c3f5a1",
   "metadata": {},
   "outputs": [],
   "source": [
    "plt.figure()\n",
    "panel_mds['ant_ea25']['ddi_0']['CORRECTIONS'].plot()"
   ]
  },
  {
   "cell_type": "code",
   "execution_count": null,
   "id": "1f466511-0a39-40f9-ad85-51d36ef2b362",
   "metadata": {},
   "outputs": [],
   "source": [
    "from IPython.display import Image\n",
    "Image(filename = \"/.lustre/cv/projects/casa/holo/demo/ea25/after_THOL0001.sb42608447.eb42709773.59842.053038750004.panel.zarr/ant_ea25/ddi_1/surface.png\", width=1500, height=1500)"
   ]
  },
  {
   "cell_type": "code",
   "execution_count": null,
   "id": "05e69bd7-7c0d-4fac-a64e-de425a69c1d8",
   "metadata": {},
   "outputs": [],
   "source": [
    "f = open('/.lustre/cv/projects/casa/holo/demo/ea25/after_THOL0001.sb42608447.eb42709773.59842.053038750004.panel.zarr/ant_ea25/ddi_1/screws.txt', 'r')\n",
    "file_contents = f.read()\n",
    "print (file_contents)\n",
    "f.close()"
   ]
  },
  {
   "cell_type": "code",
   "execution_count": null,
   "id": "19b621ea-bdcc-47dc-8609-af4a180a7bf5",
   "metadata": {},
   "outputs": [],
   "source": []
  },
  {
   "cell_type": "code",
   "execution_count": null,
   "id": "8dfc15c4-7161-4378-bff4-75851708991d",
   "metadata": {},
   "outputs": [],
   "source": []
  },
  {
   "cell_type": "code",
   "execution_count": null,
   "id": "0f237c42-af16-4a54-aff7-6cb04bef41c5",
   "metadata": {},
   "outputs": [],
   "source": []
  },
  {
   "cell_type": "code",
   "execution_count": null,
   "id": "f35e3751-e29c-467f-968f-7e61555d4694",
   "metadata": {},
   "outputs": [],
   "source": []
  },
  {
   "cell_type": "code",
   "execution_count": null,
   "id": "3161df0c-9efc-476d-aaa2-8710523ca86e",
   "metadata": {},
   "outputs": [],
   "source": []
  },
  {
   "cell_type": "code",
   "execution_count": null,
   "id": "0d7b5026-733c-4d04-9709-a182bd6bca1b",
   "metadata": {},
   "outputs": [],
   "source": []
  },
  {
   "cell_type": "code",
   "execution_count": null,
   "id": "b049c137-434e-479b-a040-e90a326ac02e",
   "metadata": {},
   "outputs": [],
   "source": []
  },
  {
   "cell_type": "code",
   "execution_count": null,
   "id": "36c0b97b-09da-4278-8403-884b73536f81",
   "metadata": {},
   "outputs": [],
   "source": []
  },
  {
   "cell_type": "code",
   "execution_count": null,
   "id": "4894b6d0-5bb2-4170-8b0c-5a8540f8faf5",
   "metadata": {},
   "outputs": [],
   "source": []
  },
  {
   "cell_type": "code",
   "execution_count": null,
   "id": "cb92ce83-6191-49c5-98c3-1e24e4602df8",
   "metadata": {},
   "outputs": [],
   "source": []
  },
  {
   "cell_type": "code",
   "execution_count": null,
   "id": "345588f1-be83-433f-b5c2-150728ac2e4f",
   "metadata": {},
   "outputs": [],
   "source": [
    "from casacore import tables as ctables\n",
    "import os\n",
    "import numpy as np\n",
    "\n",
    "ctb = ctables.table(\n",
    "    os.path.join('/.lustre/cv/projects/casa/holo/demo/ea25/after_THOL0001.sb42608447.eb42709773.59842.053038750004.ms', \"ANTENNA\"),\n",
    "    readonly=True,\n",
    "    lockoptions={\"option\": \"usernoread\"},\n",
    "    ack=False,\n",
    ")\n",
    "\n",
    "ant_names = ctb.getcol(\"NAME\")\n",
    "ant_id = np.arange(len(ant_names))"
   ]
  }
 ],
 "metadata": {
  "kernelspec": {
   "display_name": "Python 3 (ipykernel)",
   "language": "python",
   "name": "python3"
  },
  "language_info": {
   "codemirror_mode": {
    "name": "ipython",
    "version": 3
   },
   "file_extension": ".py",
   "mimetype": "text/x-python",
   "name": "python",
   "nbconvert_exporter": "python",
   "pygments_lexer": "ipython3",
   "version": "3.12.9"
  }
 },
 "nbformat": 4,
 "nbformat_minor": 5
}
