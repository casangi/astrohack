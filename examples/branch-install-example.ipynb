{
 "cells": [
  {
   "cell_type": "code",
   "execution_count": 1,
   "id": "e7b9cb02-6e34-440e-9904-954e63b37554",
   "metadata": {
    "tags": []
   },
   "outputs": [],
   "source": [
    "# This will clone and install the branch that has the current changes on it. If you want to see the output of the install to be sure it \n",
    "# was successfull, remove the > /dev/null 2>&1 in the second line.  \n",
    "\n",
    "#!pip install -e astrohack/ > /dev/null 2>&1\n",
    "!pip install -e .. > /dev/null 2>&1"
   ]
  },
  {
   "cell_type": "code",
   "execution_count": 2,
   "id": "41b8b125-0682-4679-87aa-a05c28a5ffb3",
   "metadata": {
    "tags": []
   },
   "outputs": [
    {
     "ename": "ImportError",
     "evalue": "cannot import name '_load_holog_file' from partially initialized module 'astrohack._utils._dio' (most likely due to a circular import) (/export/home/ajax/jhoskins/Development/astrohack-development/src/astrohack/_utils/_dio.py)",
     "output_type": "error",
     "traceback": [
      "\u001b[0;31m---------------------------------------------------------------------------\u001b[0m",
      "\u001b[0;31mImportError\u001b[0m                               Traceback (most recent call last)",
      "\u001b[0;32m/tmp/ipykernel_2169042/1309626323.py\u001b[0m in \u001b[0;36m<module>\u001b[0;34m\u001b[0m\n\u001b[1;32m      1\u001b[0m \u001b[0;32mimport\u001b[0m \u001b[0mos\u001b[0m\u001b[0;34m\u001b[0m\u001b[0;34m\u001b[0m\u001b[0m\n\u001b[1;32m      2\u001b[0m \u001b[0;32mimport\u001b[0m \u001b[0mjson\u001b[0m\u001b[0;34m\u001b[0m\u001b[0;34m\u001b[0m\u001b[0m\n\u001b[0;32m----> 3\u001b[0;31m \u001b[0;32mimport\u001b[0m \u001b[0mastrohack\u001b[0m\u001b[0;34m\u001b[0m\u001b[0;34m\u001b[0m\u001b[0m\n\u001b[0m\u001b[1;32m      4\u001b[0m \u001b[0;34m\u001b[0m\u001b[0m\n\u001b[1;32m      5\u001b[0m \u001b[0;32mimport\u001b[0m \u001b[0mnumpy\u001b[0m \u001b[0;32mas\u001b[0m \u001b[0mnp\u001b[0m\u001b[0;34m\u001b[0m\u001b[0;34m\u001b[0m\u001b[0m\n",
      "\u001b[0;32m~/Development/astrohack-development/src/astrohack/__init__.py\u001b[0m in \u001b[0;36m<module>\u001b[0;34m\u001b[0m\n\u001b[1;32m      4\u001b[0m \u001b[0m__version__\u001b[0m \u001b[0;34m=\u001b[0m \u001b[0mversion\u001b[0m\u001b[0;34m(\u001b[0m\u001b[0;34m'astrohack'\u001b[0m\u001b[0;34m)\u001b[0m\u001b[0;34m\u001b[0m\u001b[0;34m\u001b[0m\u001b[0m\n\u001b[1;32m      5\u001b[0m \u001b[0;34m\u001b[0m\u001b[0m\n\u001b[0;32m----> 6\u001b[0;31m \u001b[0;32mfrom\u001b[0m \u001b[0;34m.\u001b[0m\u001b[0mextract_holog\u001b[0m \u001b[0;32mimport\u001b[0m \u001b[0;34m*\u001b[0m\u001b[0;34m\u001b[0m\u001b[0;34m\u001b[0m\u001b[0m\n\u001b[0m\u001b[1;32m      7\u001b[0m \u001b[0;32mfrom\u001b[0m \u001b[0;34m.\u001b[0m\u001b[0mextract_holog\u001b[0m \u001b[0;32mimport\u001b[0m \u001b[0mgenerate_holog_obs_dict\u001b[0m\u001b[0;34m\u001b[0m\u001b[0;34m\u001b[0m\u001b[0m\n\u001b[1;32m      8\u001b[0m \u001b[0;32mfrom\u001b[0m \u001b[0;34m.\u001b[0m\u001b[0mextract_pointing\u001b[0m \u001b[0;32mimport\u001b[0m \u001b[0;34m*\u001b[0m\u001b[0;34m\u001b[0m\u001b[0;34m\u001b[0m\u001b[0m\n",
      "\u001b[0;32m~/Development/astrohack-development/src/astrohack/extract_holog.py\u001b[0m in \u001b[0;36m<module>\u001b[0;34m\u001b[0m\n\u001b[1;32m     22\u001b[0m \u001b[0;34m\u001b[0m\u001b[0m\n\u001b[1;32m     23\u001b[0m \u001b[0;34m\u001b[0m\u001b[0m\n\u001b[0;32m---> 24\u001b[0;31m \u001b[0;32mfrom\u001b[0m \u001b[0mastrohack\u001b[0m\u001b[0;34m.\u001b[0m\u001b[0m_utils\u001b[0m\u001b[0;34m.\u001b[0m\u001b[0m_constants\u001b[0m \u001b[0;32mimport\u001b[0m \u001b[0mpol_str\u001b[0m\u001b[0;34m\u001b[0m\u001b[0;34m\u001b[0m\u001b[0m\n\u001b[0m\u001b[1;32m     25\u001b[0m \u001b[0;32mfrom\u001b[0m \u001b[0mastrohack\u001b[0m\u001b[0;34m.\u001b[0m\u001b[0m_utils\u001b[0m\u001b[0;34m.\u001b[0m\u001b[0m_conversion\u001b[0m \u001b[0;32mimport\u001b[0m \u001b[0m_convert_ant_name_to_id\u001b[0m\u001b[0;34m\u001b[0m\u001b[0;34m\u001b[0m\u001b[0m\n\u001b[1;32m     26\u001b[0m \u001b[0;32mfrom\u001b[0m \u001b[0mastrohack\u001b[0m\u001b[0;34m.\u001b[0m\u001b[0m_utils\u001b[0m\u001b[0;34m.\u001b[0m\u001b[0m_dio\u001b[0m \u001b[0;32mimport\u001b[0m \u001b[0m_check_if_file_exists\u001b[0m\u001b[0;34m\u001b[0m\u001b[0;34m\u001b[0m\u001b[0m\n",
      "\u001b[0;32m~/Development/astrohack-development/src/astrohack/_utils/__init__.py\u001b[0m in \u001b[0;36m<module>\u001b[0;34m\u001b[0m\n\u001b[0;32m----> 1\u001b[0;31m \u001b[0;32mfrom\u001b[0m \u001b[0;34m.\u001b[0m\u001b[0m_dio\u001b[0m \u001b[0;32mimport\u001b[0m \u001b[0;34m*\u001b[0m\u001b[0;34m\u001b[0m\u001b[0;34m\u001b[0m\u001b[0m\n\u001b[0m\u001b[1;32m      2\u001b[0m \u001b[0;32mfrom\u001b[0m \u001b[0;34m.\u001b[0m\u001b[0m_algorithms\u001b[0m \u001b[0;32mimport\u001b[0m \u001b[0;34m*\u001b[0m\u001b[0;34m\u001b[0m\u001b[0;34m\u001b[0m\u001b[0m\n\u001b[1;32m      3\u001b[0m \u001b[0;32mfrom\u001b[0m \u001b[0;34m.\u001b[0m\u001b[0m_constants\u001b[0m \u001b[0;32mimport\u001b[0m \u001b[0;34m*\u001b[0m\u001b[0;34m\u001b[0m\u001b[0;34m\u001b[0m\u001b[0m\n\u001b[1;32m      4\u001b[0m \u001b[0;32mfrom\u001b[0m \u001b[0;34m.\u001b[0m\u001b[0m_conversion\u001b[0m \u001b[0;32mimport\u001b[0m \u001b[0;34m*\u001b[0m\u001b[0;34m\u001b[0m\u001b[0;34m\u001b[0m\u001b[0m\n\u001b[1;32m      5\u001b[0m \u001b[0;32mfrom\u001b[0m \u001b[0;34m.\u001b[0m\u001b[0m_imaging\u001b[0m \u001b[0;32mimport\u001b[0m \u001b[0;34m*\u001b[0m\u001b[0;34m\u001b[0m\u001b[0;34m\u001b[0m\u001b[0m\n",
      "\u001b[0;32m~/Development/astrohack-development/src/astrohack/_utils/_dio.py\u001b[0m in \u001b[0;36m<module>\u001b[0;34m\u001b[0m\n\u001b[1;32m     16\u001b[0m \u001b[0;32mfrom\u001b[0m \u001b[0mastrohack\u001b[0m \u001b[0;32mimport\u001b[0m \u001b[0m__version__\u001b[0m \u001b[0;32mas\u001b[0m \u001b[0mcode_version\u001b[0m\u001b[0;34m\u001b[0m\u001b[0;34m\u001b[0m\u001b[0m\n\u001b[1;32m     17\u001b[0m \u001b[0;34m\u001b[0m\u001b[0m\n\u001b[0;32m---> 18\u001b[0;31m \u001b[0;32mfrom\u001b[0m \u001b[0mastrohack\u001b[0m\u001b[0;34m.\u001b[0m\u001b[0m_utils\u001b[0m\u001b[0;34m.\u001b[0m\u001b[0m_tools\u001b[0m \u001b[0;32mimport\u001b[0m \u001b[0m_add_prefix\u001b[0m\u001b[0;34m\u001b[0m\u001b[0;34m\u001b[0m\u001b[0m\n\u001b[0m\u001b[1;32m     19\u001b[0m \u001b[0;32mfrom\u001b[0m \u001b[0mastrohack\u001b[0m\u001b[0;34m.\u001b[0m\u001b[0m_utils\u001b[0m\u001b[0;34m.\u001b[0m\u001b[0m_tools\u001b[0m \u001b[0;32mimport\u001b[0m \u001b[0mNumpyEncoder\u001b[0m\u001b[0;34m\u001b[0m\u001b[0;34m\u001b[0m\u001b[0m\n\u001b[1;32m     20\u001b[0m \u001b[0;34m\u001b[0m\u001b[0m\n",
      "\u001b[0;32m~/Development/astrohack-development/src/astrohack/_utils/_tools.py\u001b[0m in \u001b[0;36m<module>\u001b[0;34m\u001b[0m\n\u001b[1;32m     15\u001b[0m \u001b[0;34m\u001b[0m\u001b[0m\n\u001b[1;32m     16\u001b[0m \u001b[0;32mfrom\u001b[0m \u001b[0mastrohack\u001b[0m\u001b[0;34m.\u001b[0m\u001b[0m_utils\u001b[0m\u001b[0;34m.\u001b[0m\u001b[0m_conversion\u001b[0m \u001b[0;32mimport\u001b[0m \u001b[0m_convert_unit\u001b[0m\u001b[0;34m\u001b[0m\u001b[0;34m\u001b[0m\u001b[0m\n\u001b[0;32m---> 17\u001b[0;31m \u001b[0;32mfrom\u001b[0m \u001b[0mastrohack\u001b[0m\u001b[0;34m.\u001b[0m\u001b[0m_utils\u001b[0m\u001b[0;34m.\u001b[0m\u001b[0m_algorithms\u001b[0m \u001b[0;32mimport\u001b[0m \u001b[0m_significant_digits\u001b[0m\u001b[0;34m\u001b[0m\u001b[0;34m\u001b[0m\u001b[0m\n\u001b[0m\u001b[1;32m     18\u001b[0m \u001b[0;34m\u001b[0m\u001b[0m\n\u001b[1;32m     19\u001b[0m \u001b[0;34m\u001b[0m\u001b[0m\n",
      "\u001b[0;32m~/Development/astrohack-development/src/astrohack/_utils/_algorithms.py\u001b[0m in \u001b[0;36m<module>\u001b[0;34m\u001b[0m\n\u001b[1;32m      3\u001b[0m \u001b[0;32mimport\u001b[0m \u001b[0mscipy\u001b[0m\u001b[0;34m.\u001b[0m\u001b[0mconstants\u001b[0m\u001b[0;34m\u001b[0m\u001b[0;34m\u001b[0m\u001b[0m\n\u001b[1;32m      4\u001b[0m \u001b[0;34m\u001b[0m\u001b[0m\n\u001b[0;32m----> 5\u001b[0;31m \u001b[0;32mfrom\u001b[0m \u001b[0mastrohack\u001b[0m\u001b[0;34m.\u001b[0m\u001b[0mcore\u001b[0m\u001b[0;34m.\u001b[0m\u001b[0mtelescope\u001b[0m \u001b[0;32mimport\u001b[0m \u001b[0mTelescope\u001b[0m\u001b[0;34m\u001b[0m\u001b[0;34m\u001b[0m\u001b[0m\n\u001b[0m\u001b[1;32m      6\u001b[0m \u001b[0;34m\u001b[0m\u001b[0m\n\u001b[1;32m      7\u001b[0m \u001b[0;32mimport\u001b[0m \u001b[0mgraphviper\u001b[0m\u001b[0;34m.\u001b[0m\u001b[0mutils\u001b[0m\u001b[0;34m.\u001b[0m\u001b[0mlogger\u001b[0m \u001b[0;32mas\u001b[0m \u001b[0mlogger\u001b[0m\u001b[0;34m\u001b[0m\u001b[0;34m\u001b[0m\u001b[0m\n",
      "\u001b[0;32m~/Development/astrohack-development/src/astrohack/core/__init__.py\u001b[0m in \u001b[0;36m<module>\u001b[0;34m\u001b[0m\n\u001b[0;32m----> 1\u001b[0;31m \u001b[0;32mfrom\u001b[0m \u001b[0;34m.\u001b[0m\u001b[0mholog\u001b[0m \u001b[0;32mimport\u001b[0m \u001b[0mprocess_holog_chunk\u001b[0m\u001b[0;34m\u001b[0m\u001b[0;34m\u001b[0m\u001b[0m\n\u001b[0m\u001b[1;32m      2\u001b[0m \u001b[0;32mfrom\u001b[0m \u001b[0;34m.\u001b[0m\u001b[0mpanel\u001b[0m \u001b[0;32mimport\u001b[0m \u001b[0mprocess_panel_chunk\u001b[0m\u001b[0;34m\u001b[0m\u001b[0;34m\u001b[0m\u001b[0m\n\u001b[1;32m      3\u001b[0m \u001b[0;32mfrom\u001b[0m \u001b[0;34m.\u001b[0m\u001b[0mextract_holog\u001b[0m \u001b[0;32mimport\u001b[0m \u001b[0mprocess_extract_holog_chunk\u001b[0m\u001b[0;34m\u001b[0m\u001b[0;34m\u001b[0m\u001b[0m\n\u001b[1;32m      4\u001b[0m \u001b[0;32mfrom\u001b[0m \u001b[0;34m.\u001b[0m\u001b[0mextract_pointing\u001b[0m \u001b[0;32mimport\u001b[0m \u001b[0mprocess_extract_pointing\u001b[0m\u001b[0;34m\u001b[0m\u001b[0;34m\u001b[0m\u001b[0m\n\u001b[1;32m      5\u001b[0m \u001b[0;34m\u001b[0m\u001b[0m\n",
      "\u001b[0;32m~/Development/astrohack-development/src/astrohack/core/holog.py\u001b[0m in \u001b[0;36m<module>\u001b[0;34m\u001b[0m\n\u001b[1;32m      6\u001b[0m \u001b[0;32mfrom\u001b[0m \u001b[0mastrohack\u001b[0m\u001b[0;34m.\u001b[0m\u001b[0mcore\u001b[0m\u001b[0;34m.\u001b[0m\u001b[0mtelescope\u001b[0m \u001b[0;32mimport\u001b[0m \u001b[0mTelescope\u001b[0m\u001b[0;34m\u001b[0m\u001b[0;34m\u001b[0m\u001b[0m\n\u001b[1;32m      7\u001b[0m \u001b[0;34m\u001b[0m\u001b[0m\n\u001b[0;32m----> 8\u001b[0;31m \u001b[0;32mfrom\u001b[0m \u001b[0mastrohack\u001b[0m\u001b[0;34m.\u001b[0m\u001b[0m_utils\u001b[0m\u001b[0;34m.\u001b[0m\u001b[0m_dio\u001b[0m \u001b[0;32mimport\u001b[0m \u001b[0m_load_holog_file\u001b[0m\u001b[0;34m\u001b[0m\u001b[0;34m\u001b[0m\u001b[0m\n\u001b[0m\u001b[1;32m      9\u001b[0m \u001b[0;32mfrom\u001b[0m \u001b[0mastrohack\u001b[0m\u001b[0;34m.\u001b[0m\u001b[0m_utils\u001b[0m\u001b[0;34m.\u001b[0m\u001b[0m_dio\u001b[0m \u001b[0;32mimport\u001b[0m \u001b[0m_read_meta_data\u001b[0m\u001b[0;34m,\u001b[0m \u001b[0m_write_fits\u001b[0m\u001b[0;34m\u001b[0m\u001b[0;34m\u001b[0m\u001b[0m\n\u001b[1;32m     10\u001b[0m \u001b[0;34m\u001b[0m\u001b[0m\n",
      "\u001b[0;31mImportError\u001b[0m: cannot import name '_load_holog_file' from partially initialized module 'astrohack._utils._dio' (most likely due to a circular import) (/export/home/ajax/jhoskins/Development/astrohack-development/src/astrohack/_utils/_dio.py)"
     ]
    }
   ],
   "source": [
    "import os\n",
    "import json\n",
    "import astrohack\n",
    "\n",
    "import numpy as np"
   ]
  },
  {
   "cell_type": "code",
   "execution_count": null,
   "id": "aba413e7-078e-4b6a-84aa-1358a2cdf298",
   "metadata": {},
   "outputs": [],
   "source": [
    "os.environ[\"PARAMETER_CONFIG_PATH\"]"
   ]
  },
  {
   "cell_type": "code",
   "execution_count": null,
   "id": "9c29afb5-a6c4-4131-a93c-de3fbc833ab8",
   "metadata": {
    "tags": []
   },
   "outputs": [],
   "source": [
    "import distributed\n",
    "\n",
    "from graphviper.dask.client import local_client\n",
    "\n",
    "DEFAULT_DASK_ADDRESS=\"tcp://localhost:8786\"\n",
    "\n",
    "log_params = {\n",
    "    'logger_name': \"astrohack\",\n",
    "    'log_level':'INFO',\n",
    "    'log_to_term':True,\n",
    "    'log_to_file': False,\n",
    "}\n",
    "\n",
    "worker_log_params = {\n",
    "    'logger_name': \"astrohack\",\n",
    "    'log_level':'INFO',\n",
    "    'log_to_term':True,\n",
    "    'log_to_file': False,\n",
    "    'log_file': None\n",
    "}\n",
    "\n",
    "if not distributed.client._get_global_client():\n",
    "    try:\n",
    "        client = distributed.Client(DEFAULT_DASK_ADDRESS, timeout=2)\n",
    "        \n",
    "    except OSError:\n",
    "        print(\"Spawn client ...\")\n",
    "        os.environ[\"DASK_SCHEDULER_ADDRESS\"] = DEFAULT_DASK_ADDRESS\n",
    "        client=local_client(\n",
    "            cores=2,\n",
    "            memory_limit='8GB',\n",
    "            log_params=log_params,\n",
    "            worker_log_params=worker_log_params\n",
    "        )\n",
    "        \n",
    "else:\n",
    "    client = distributed.client._get_global_client()\n"
   ]
  },
  {
   "cell_type": "code",
   "execution_count": null,
   "id": "90030e2e-db69-415b-a026-a8d8851753c9",
   "metadata": {
    "tags": []
   },
   "outputs": [],
   "source": [
    "client.dashboard_link"
   ]
  },
  {
   "cell_type": "code",
   "execution_count": null,
   "id": "54b57ee3-b1d0-4c14-b97d-218623b18a05",
   "metadata": {
    "tags": []
   },
   "outputs": [],
   "source": [
    "#graphviper.utils.data.download('ea25_cal_small_before_fixed.split.ms', folder=\"data\")\n",
    "\n",
    "ms_file = \"data/ea25_cal_small_before_fixed.split.ms\"\n",
    "'''\n",
    "ms_file = \"/export/home/ajax/jhoskins/Development/data/otf-47-ea06-spw0.ms\"\n",
    "\n",
    "point_name = \"data/otf-47-ea06-spw0.point.zarr\"\n",
    "holog_name = \"data/otf-47-ea06-spw0.holog.zarr\"\n",
    "image_name = \"data/otf-47-ea06-spw0.image.zarr\"\n",
    "panel_name = \"data/otf-47-ea06-spw0.panel.zarr\"\n",
    "'''\n",
    "point_name = \"data/ea25_cal_small_before_fixed.split.point.zarr\"\n",
    "holog_name = \"data/ea25_cal_small_before_fixed.split.holog.zarr\"\n",
    "image_name = \"data/ea25_cal_small_before_fixed.split.image.zarr\"\n",
    "panel_name = \"data/ea25_cal_small_before_fixed.split.panel.zarr\""
   ]
  },
  {
   "cell_type": "code",
   "execution_count": null,
   "id": "fa8d3c17-7b45-40a9-b922-54c6cb5bf6c3",
   "metadata": {
    "tags": []
   },
   "outputs": [],
   "source": [
    "from astrohack.extract_pointing import extract_pointing\n",
    "\n",
    "point_mds = extract_pointing(\n",
    "    ms_name=ms_file,\n",
    "    point_name=point_name,\n",
    "    #exclude=[\"ea25\"],\n",
    "    parallel=True,\n",
    "    overwrite=True\n",
    ")"
   ]
  },
  {
   "cell_type": "code",
   "execution_count": null,
   "id": "a690ca05-e260-4435-a2fa-63d98a823339",
   "metadata": {
    "tags": []
   },
   "outputs": [],
   "source": [
    "# Here I reduced the size of the holog_obs_dict for quicker testing. You can comment this out of edit it as needed depending on your testing goals.\n",
    "\n",
    "from astrohack.extract_holog import generate_holog_obs_dict\n",
    "\n",
    "holog_obs_dict = generate_holog_obs_dict(\n",
    "    ms_name=ms_file,\n",
    "    point_name=\"data/ea25_cal_small_before_fixed.split.point.zarr\",\n",
    ")"
   ]
  },
  {
   "cell_type": "markdown",
   "id": "2f8a0805-1da5-4293-872c-cc64f6de3a3f",
   "metadata": {},
   "source": [
    "### The holog observations dictionary has now been turned into an extended dictionary object similar to the `holog_mds`. There are a couple of new functionalities available to the user now:\n",
    "\n",
    "- The `select` function allows the user to trim the holog_obs_dict on all major axes (ddi, map, antenna, scan, baseline) in a much simpler way than previsouly.\n",
    "- The `print` function allows the user to inspect the holog_obs_dict with both a static, ascii print out style and a dynamic, collapsible json style.\n",
    "- A static method is available to allow the user to select the `n` closest baseline associated with a given mapping antenna adn return them in a list that cane be used with the baseline key option allowing the user to trim the holog_obs_dict based on baseline.\n",
    "\n",
    "### Each of these options is demonstrated below."
   ]
  },
  {
   "cell_type": "code",
   "execution_count": null,
   "id": "9a65d569-9d62-4082-818c-3cef803ffb9a",
   "metadata": {
    "tags": []
   },
   "outputs": [],
   "source": [
    "#get_nearest_baselines(antenna=\"ea25\", n_baselines=5)"
   ]
  },
  {
   "cell_type": "code",
   "execution_count": null,
   "id": "a9888297-948e-4f34-a921-1b6e73c2041a",
   "metadata": {
    "tags": []
   },
   "outputs": [],
   "source": [
    "# There are two options here for style, static and dynamic. Static returns a formatted ascii output while dynamic returns a dynamic json object.\n",
    "holog_obs_dict.print(style=\"dynamic\")"
   ]
  },
  {
   "cell_type": "code",
   "execution_count": null,
   "id": "f626f6fe-f226-4a67-a129-3d757dc2bcc4",
   "metadata": {},
   "outputs": [],
   "source": [
    "from astrohack.extract_holog import model_memory_usage\n",
    "\n",
    "memory_per_core = model_memory_usage(\n",
    "    ms_name=ms_file, \n",
    "    holog_obs_dict=holog_obs_dict\n",
    ")"
   ]
  },
  {
   "cell_type": "markdown",
   "id": "c4a7e899-21a5-420a-8561-641a81bfe3ae",
   "metadata": {},
   "source": [
    "### `Select(key, value, inplace, **kwargs)`\n",
    "### The select function allows the user to trim the `holog_obs_dict`. The `key` (ddi, map, antenna, scan, baseline) input gives the dictionary key you would like to select and `value` is the value you want to keep. Everything else is deleted. There is also an `inplace` boolean input. This specifies whether you want to modify the calling dictionay or return a new dictionary. The additional arguments, `kwarags` is currently only useful for the baseline example explain further down.\n",
    "\n",
    "### One key feature is also that all select calls are chainable. This allows for selecting on mutiple keys in a simple modular way. An example is shown below."
   ]
  },
  {
   "cell_type": "code",
   "execution_count": null,
   "id": "653ade80-3e79-4727-86ae-23944bfec2d1",
   "metadata": {
    "tags": []
   },
   "outputs": [],
   "source": [
    "# Select only ddi=0 and return a new dictionary, from the original dictionary above.\n",
    "#trimmed_dict = holog_obs_dict.select(key=\"ddi\", value=1, inplace=False)\n",
    "#trimmed_dict.print(style=\"dynamic\")"
   ]
  },
  {
   "cell_type": "code",
   "execution_count": null,
   "id": "a16a20b1-6c49-4e8c-ab1a-46d2682cfd70",
   "metadata": {
    "tags": []
   },
   "outputs": [],
   "source": [
    "# Here we will select only following (key,value) pairs: \n",
    "#\n",
    "# ddi=0\n",
    "# map=0\n",
    "# scans=6, 7, 8, 9, 10\n",
    "# antenna='ea22', 'ea15', 'ea25'\n",
    "#\n",
    "# We do this using function chaining. Because each call returns a new object, another call can be directly invoked.\n",
    "\n",
    "#trimmed_dict = holog_obs_dict.select(\n",
    "#    key=\"ddi\", \n",
    "#    value=0, \n",
    "#    inplace=False\n",
    "#).select(\n",
    "#    key=\"map\", \n",
    "#    value=0, \n",
    "#    inplace=False\n",
    "#).select(\n",
    "#    key=\"scan\", \n",
    "#    value=[6, 7, 8, 9, 10], \n",
    "#    inplace=False\n",
    "#).select(\n",
    "#    key=\"antenna\", \n",
    "#    value=['ea22', 'ea15', 'ea25'], \n",
    "#    inplace=False\n",
    "#)\n",
    "\n",
    "#trimmed_dict.print(style=\"dynamic\")"
   ]
  },
  {
   "cell_type": "markdown",
   "id": "fa119aba-3b6a-4f8c-b4cd-aa6f996f14b7",
   "metadata": {},
   "source": [
    "### `Select(...)` with the baseline option:\n",
    "\n",
    "### In order to trim the dictionary based on the shortest baseline formed using a given mapping antenna we require the use of two functions. First we use the static method to get the reference antennas that for the `n` shortest baselines given and antenna."
   ]
  },
  {
   "cell_type": "code",
   "execution_count": null,
   "id": "a3ba9864-fa57-40cd-8d79-621a25532594",
   "metadata": {
    "tags": []
   },
   "outputs": [],
   "source": [
    "# Since it doesn't mdoify the dictionary object, this can be called on the new returned dictionary or the original dictionary. The following \n",
    "# gives the antennas for the three shortest baselines formed with the mapping antenna, 'ea25'. Note these don't take into account whether the \n",
    "# antenna is reference or mapping, it only calculates the baseline lengths for reference.\n",
    "#nearest_baselines = holog_obs_dict.get_nearest_baselines(antenna=\"ea15\", n_baselines=24)\n",
    "#nearest_baselines\n",
    "#\n",
    "#.select(\n",
    "#    key=\"scan\", \n",
    "#    value=[\n",
    "#        6, 7, 8, 9, 10, 11, 12, 13, 14, 15,\n",
    "#        16, 17, 19, 20, 21, 22, 23, 24, 25, \n",
    "#        26, 27, 28, 29, 30, 35, 36, 37, 38, \n",
    "#        39, 40\n",
    "#    ],\n",
    "#    inplace=False\n",
    "#)"
   ]
  },
  {
   "cell_type": "code",
   "execution_count": null,
   "id": "e5c8e74f-b2f5-4c42-8f76-98362210dc59",
   "metadata": {
    "tags": []
   },
   "outputs": [],
   "source": [
    "# With the reference antenna list in-hand we can now trim the dictionary using the select method as follows\n",
    "'''\n",
    "trimmed_dict = {}\n",
    "\n",
    "trimmed_dict = holog_obs_dict.select(\n",
    "    key=\"ddi\", \n",
    "    value=1,\n",
    "    inplace=False\n",
    ").select(\n",
    "    key=\"baseline\", \n",
    "    value=\"ea15\", \n",
    "    n_baselines=3, \n",
    "    inplace=False\n",
    ")\n",
    "\n",
    "trimmed_dict.print(style=\"dynamic\")\n",
    "'''"
   ]
  },
  {
   "cell_type": "code",
   "execution_count": null,
   "id": "6c4786e1-8a8f-4ef8-8687-f6a58cb45a52",
   "metadata": {
    "tags": []
   },
   "outputs": [],
   "source": [
    "# You will notice that there is a warning thrown below regarding the mutliple values of cell size and pixel number found in the pointing file\n",
    "# but suggested values are computed. They are NOT guarenteed to work though. For instance, below you will see the number of pixels is very small\n",
    "# and if you use the resonably calculated pixle value suggested, you will get a singular matrix. There is still work to be done.\n",
    "\n",
    "from astrohack.extract_holog import extract_holog\n",
    "\n",
    "holog_mds = extract_holog(\n",
    "    ms_name=ms_file,\n",
    "    point_name=\"data/ea25_cal_small_before_fixed.split.point.zarr\",\n",
    "    #holog_name=\"data/otf33.holog.zarr\",\n",
    "    #holog_obs_dict=trimmed_dict,\n",
    "    data_column='CORRECTED_DATA',\n",
    "    parallel=True,\n",
    "    overwrite=True\n",
    ")"
   ]
  },
  {
   "cell_type": "code",
   "execution_count": null,
   "id": "972a475f-9319-461f-98a9-3943bc9d2039",
   "metadata": {
    "tags": []
   },
   "outputs": [],
   "source": [
    "from astrohack.holog import holog\n",
    "\n",
    "image_mds = holog(\n",
    "    holog_name=\"data/ea25_cal_small_before_fixed.split.holog.zarr\",\n",
    "    #grid_size=np.array([30, 30]),\n",
    "    overwrite=True,\n",
    "    parallel=True\n",
    ")"
   ]
  },
  {
   "cell_type": "code",
   "execution_count": null,
   "id": "2c6cefba-c698-4f3c-a4de-3a42b58bd873",
   "metadata": {
    "tags": []
   },
   "outputs": [],
   "source": [
    "#\n",
    "# A list of colormaps available in matplotlib can be found here:\n",
    "#\n",
    "# https://matplotlib.org/stable/users/explain/colors/colormaps.html\n",
    "#\n",
    "\n",
    "image_mds.plot_apertures(\n",
    "    destination=\"plots\", \n",
    "    ant=\"ea06\",\n",
    "    colormap=\"RdYlGn\",\n",
    "    display=True\n",
    ")"
   ]
  },
  {
   "cell_type": "code",
   "execution_count": null,
   "id": "d74d67d9-e40c-48bf-bb09-36c5af80ef2d",
   "metadata": {},
   "outputs": [],
   "source": [
    "from astrohack.panel import panel\n",
    "\n",
    "panel_model = 'rigid'\n",
    "\n",
    "panel_mds = panel(\n",
    "    image_name=image_name,\n",
    "    clip_type='absolute',\n",
    "    clip_level=0.0,\n",
    "    parallel=True,\n",
    "    overwrite=True\n",
    ")\n"
   ]
  },
  {
   "cell_type": "code",
   "execution_count": null,
   "id": "35f06b88-78d1-478f-9f2c-9ca7d010a41f",
   "metadata": {},
   "outputs": [],
   "source": [
    "panel_mds.plot_antennas(\n",
    "    \"panel_exports\",         # Directory to contain the plot and text file\n",
    "    ant='ea06',              # Plotting Antenna ea06\n",
    "    ddi=0,                   # Plotting DDI 0\n",
    "    plot_type='deviation',   # Do deviation plots only\n",
    "    deviation_unit='mils',   #\n",
    "    plot_screws=False,       # Not plotting screw positions\n",
    "    parallel=False,          # Don't do plots in parallel\n",
    "    display=True             # Display plots below\n",
    ")"
   ]
  },
  {
   "cell_type": "code",
   "execution_count": null,
   "id": "07f0d234-d375-46cb-beae-69a61901209e",
   "metadata": {},
   "outputs": [],
   "source": [
    "client.shutdown()"
   ]
  }
 ],
 "metadata": {
  "kernelspec": {
   "display_name": "Python 3 (ipykernel)",
   "language": "python",
   "name": "python3"
  },
  "language_info": {
   "codemirror_mode": {
    "name": "ipython",
    "version": 3
   },
   "file_extension": ".py",
   "mimetype": "text/x-python",
   "name": "python",
   "nbconvert_exporter": "python",
   "pygments_lexer": "ipython3",
   "version": "3.8.18"
  }
 },
 "nbformat": 4,
 "nbformat_minor": 5
}
